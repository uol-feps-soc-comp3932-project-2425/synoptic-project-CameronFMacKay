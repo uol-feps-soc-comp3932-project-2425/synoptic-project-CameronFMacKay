{
 "cells": [
  {
   "cell_type": "code",
   "execution_count": 1,
   "metadata": {},
   "outputs": [
    {
     "name": "stderr",
     "output_type": "stream",
     "text": [
      "/Users/cam/Documents/diss/copy/synoptic-project-CameronFMacKay/.venv/lib/python3.13/site-packages/tqdm/auto.py:21: TqdmWarning: IProgress not found. Please update jupyter and ipywidgets. See https://ipywidgets.readthedocs.io/en/stable/user_install.html\n",
      "  from .autonotebook import tqdm as notebook_tqdm\n"
     ]
    }
   ],
   "source": [
    "import faiss\n",
    "import sqlite3\n",
    "import pandas as pd\n",
    "import numpy as np\n",
    "from sentence_transformers import SentenceTransformer\n",
    "import torch\n",
    "\n",
    "# Load model"
   ]
  },
  {
   "cell_type": "code",
   "execution_count": 12,
   "metadata": {},
   "outputs": [],
   "source": [
    "device = \"mps\" if torch.backends.mps.is_available() else \"cpu\"\n",
    "model = SentenceTransformer(\"all-MiniLM-L6-v2\").to(device)"
   ]
  },
  {
   "cell_type": "code",
   "execution_count": null,
   "metadata": {},
   "outputs": [],
   "source": [
    "df = pd.read_csv('combined.csv')\n",
    "df = df.rename(columns={'Lyric': 'lyrics', 'Title': 'title', 'Artist': 'artist'})\n",
    "df = df.drop(columns={'Unnamed: 0', 'Album', 'Year', 'Date'})"
   ]
  },
  {
   "cell_type": "code",
   "execution_count": 57,
   "metadata": {},
   "outputs": [
    {
     "data": {
      "text/html": [
       "<div>\n",
       "<style scoped>\n",
       "    .dataframe tbody tr th:only-of-type {\n",
       "        vertical-align: middle;\n",
       "    }\n",
       "\n",
       "    .dataframe tbody tr th {\n",
       "        vertical-align: top;\n",
       "    }\n",
       "\n",
       "    .dataframe thead th {\n",
       "        text-align: right;\n",
       "    }\n",
       "</style>\n",
       "<table border=\"1\" class=\"dataframe\">\n",
       "  <thead>\n",
       "    <tr style=\"text-align: right;\">\n",
       "      <th></th>\n",
       "      <th>artist</th>\n",
       "      <th>title</th>\n",
       "      <th>lyrics</th>\n",
       "    </tr>\n",
       "  </thead>\n",
       "  <tbody>\n",
       "    <tr>\n",
       "      <th>0</th>\n",
       "      <td>Dua Lipa</td>\n",
       "      <td>New Rules</td>\n",
       "      <td>one one one one one   talkin' in my sleep at n...</td>\n",
       "    </tr>\n",
       "    <tr>\n",
       "      <th>1</th>\n",
       "      <td>Dua Lipa</td>\n",
       "      <td>Don’t Start Now</td>\n",
       "      <td>if you don't wanna see me   did a full 80 craz...</td>\n",
       "    </tr>\n",
       "    <tr>\n",
       "      <th>2</th>\n",
       "      <td>Dua Lipa</td>\n",
       "      <td>IDGAF</td>\n",
       "      <td>you call me all friendly tellin' me how much y...</td>\n",
       "    </tr>\n",
       "    <tr>\n",
       "      <th>3</th>\n",
       "      <td>Dua Lipa</td>\n",
       "      <td>Blow Your Mind (Mwah)</td>\n",
       "      <td>i know it's hot i know we've got something tha...</td>\n",
       "    </tr>\n",
       "    <tr>\n",
       "      <th>4</th>\n",
       "      <td>Dua Lipa</td>\n",
       "      <td>Be the One</td>\n",
       "      <td>i see the moon i see the moon i see the moon o...</td>\n",
       "    </tr>\n",
       "  </tbody>\n",
       "</table>\n",
       "</div>"
      ],
      "text/plain": [
       "     artist                  title  \\\n",
       "0  Dua Lipa              New Rules   \n",
       "1  Dua Lipa        Don’t Start Now   \n",
       "2  Dua Lipa                  IDGAF   \n",
       "3  Dua Lipa  Blow Your Mind (Mwah)   \n",
       "4  Dua Lipa             Be the One   \n",
       "\n",
       "                                              lyrics  \n",
       "0  one one one one one   talkin' in my sleep at n...  \n",
       "1  if you don't wanna see me   did a full 80 craz...  \n",
       "2  you call me all friendly tellin' me how much y...  \n",
       "3  i know it's hot i know we've got something tha...  \n",
       "4  i see the moon i see the moon i see the moon o...  "
      ]
     },
     "execution_count": 57,
     "metadata": {},
     "output_type": "execute_result"
    }
   ],
   "source": [
    "df.head()"
   ]
  },
  {
   "cell_type": "code",
   "execution_count": 41,
   "metadata": {},
   "outputs": [
    {
     "data": {
      "text/html": [
       "<div>\n",
       "<style scoped>\n",
       "    .dataframe tbody tr th:only-of-type {\n",
       "        vertical-align: middle;\n",
       "    }\n",
       "\n",
       "    .dataframe tbody tr th {\n",
       "        vertical-align: top;\n",
       "    }\n",
       "\n",
       "    .dataframe thead th {\n",
       "        text-align: right;\n",
       "    }\n",
       "</style>\n",
       "<table border=\"1\" class=\"dataframe\">\n",
       "  <thead>\n",
       "    <tr style=\"text-align: right;\">\n",
       "      <th></th>\n",
       "      <th>title</th>\n",
       "      <th>artist</th>\n",
       "      <th>lyrics</th>\n",
       "    </tr>\n",
       "  </thead>\n",
       "  <tbody>\n",
       "    <tr>\n",
       "      <th>0</th>\n",
       "      <td>Kendrick Lamar &amp; SZA - luther (Tradução em Por...</td>\n",
       "      <td>Genius Brasil Traduções</td>\n",
       "      <td>[Intro]\\nSe esse mundo fosse meu\\n\\n[Verso 1: ...</td>\n",
       "    </tr>\n",
       "    <tr>\n",
       "      <th>1</th>\n",
       "      <td>Die With A Smile</td>\n",
       "      <td>Lady Gaga</td>\n",
       "      <td>[Intro: Bruno Mars]\\n(Ooh, ooh)\\n\\n[Verse 1: B...</td>\n",
       "    </tr>\n",
       "    <tr>\n",
       "      <th>2</th>\n",
       "      <td>Not Like Us</td>\n",
       "      <td>Kendrick Lamar</td>\n",
       "      <td>[Intro]\\nPsst, I see dead people\\n(Mustard on ...</td>\n",
       "    </tr>\n",
       "    <tr>\n",
       "      <th>3</th>\n",
       "      <td>A Bar Song (Tipsy)</td>\n",
       "      <td>Shaboozey</td>\n",
       "      <td>[Verse 1]\\nMy baby want a Birkin, she's been t...</td>\n",
       "    </tr>\n",
       "    <tr>\n",
       "      <th>4</th>\n",
       "      <td>Kendrick Lamar - tv off ft. Lefty Gunplay (Tür...</td>\n",
       "      <td>Genius Türkçe Çeviri</td>\n",
       "      <td>[\"tv off\" için Türkçe şarkı sözleri]\\n\\n[Kısım...</td>\n",
       "    </tr>\n",
       "  </tbody>\n",
       "</table>\n",
       "</div>"
      ],
      "text/plain": [
       "                                               title                   artist  \\\n",
       "0  Kendrick Lamar & SZA - luther (Tradução em Por...  Genius Brasil Traduções   \n",
       "1                                   Die With A Smile                Lady Gaga   \n",
       "2                                        Not Like Us           Kendrick Lamar   \n",
       "3                                 A Bar Song (Tipsy)                Shaboozey   \n",
       "4  Kendrick Lamar - tv off ft. Lefty Gunplay (Tür...     Genius Türkçe Çeviri   \n",
       "\n",
       "                                              lyrics  \n",
       "0  [Intro]\\nSe esse mundo fosse meu\\n\\n[Verso 1: ...  \n",
       "1  [Intro: Bruno Mars]\\n(Ooh, ooh)\\n\\n[Verse 1: B...  \n",
       "2  [Intro]\\nPsst, I see dead people\\n(Mustard on ...  \n",
       "3  [Verse 1]\\nMy baby want a Birkin, she's been t...  \n",
       "4  [\"tv off\" için Türkçe şarkı sözleri]\\n\\n[Kısım...  "
      ]
     },
     "execution_count": 41,
     "metadata": {},
     "output_type": "execute_result"
    }
   ],
   "source": [
    "march = pd.read_csv('march25hot.csv')\n",
    "march = march.drop(columns={\"song_id\"})\n",
    "march.head()"
   ]
  },
  {
   "cell_type": "code",
   "execution_count": 58,
   "metadata": {},
   "outputs": [],
   "source": [
    "test = df\n"
   ]
  },
  {
   "cell_type": "code",
   "execution_count": 43,
   "metadata": {},
   "outputs": [
    {
     "data": {
      "text/html": [
       "<div>\n",
       "<style scoped>\n",
       "    .dataframe tbody tr th:only-of-type {\n",
       "        vertical-align: middle;\n",
       "    }\n",
       "\n",
       "    .dataframe tbody tr th {\n",
       "        vertical-align: top;\n",
       "    }\n",
       "\n",
       "    .dataframe thead th {\n",
       "        text-align: right;\n",
       "    }\n",
       "</style>\n",
       "<table border=\"1\" class=\"dataframe\">\n",
       "  <thead>\n",
       "    <tr style=\"text-align: right;\">\n",
       "      <th></th>\n",
       "      <th>artist</th>\n",
       "      <th>title</th>\n",
       "      <th>lyrics</th>\n",
       "    </tr>\n",
       "  </thead>\n",
       "  <tbody>\n",
       "    <tr>\n",
       "      <th>0</th>\n",
       "      <td>ABBA</td>\n",
       "      <td>Ahe's My Kind Of Girl</td>\n",
       "      <td>Look at her face, it's a wonderful face  \\r\\nA...</td>\n",
       "    </tr>\n",
       "    <tr>\n",
       "      <th>1</th>\n",
       "      <td>ABBA</td>\n",
       "      <td>Andante, Andante</td>\n",
       "      <td>Take it easy with me, please  \\r\\nTouch me gen...</td>\n",
       "    </tr>\n",
       "    <tr>\n",
       "      <th>2</th>\n",
       "      <td>ABBA</td>\n",
       "      <td>As Good As New</td>\n",
       "      <td>I'll never know why I had to go  \\r\\nWhy I had...</td>\n",
       "    </tr>\n",
       "    <tr>\n",
       "      <th>3</th>\n",
       "      <td>ABBA</td>\n",
       "      <td>Bang</td>\n",
       "      <td>Making somebody happy is a question of give an...</td>\n",
       "    </tr>\n",
       "    <tr>\n",
       "      <th>4</th>\n",
       "      <td>ABBA</td>\n",
       "      <td>Bang-A-Boomerang</td>\n",
       "      <td>Making somebody happy is a question of give an...</td>\n",
       "    </tr>\n",
       "  </tbody>\n",
       "</table>\n",
       "</div>"
      ],
      "text/plain": [
       "  artist                  title  \\\n",
       "0   ABBA  Ahe's My Kind Of Girl   \n",
       "1   ABBA       Andante, Andante   \n",
       "2   ABBA         As Good As New   \n",
       "3   ABBA                   Bang   \n",
       "4   ABBA       Bang-A-Boomerang   \n",
       "\n",
       "                                              lyrics  \n",
       "0  Look at her face, it's a wonderful face  \\r\\nA...  \n",
       "1  Take it easy with me, please  \\r\\nTouch me gen...  \n",
       "2  I'll never know why I had to go  \\r\\nWhy I had...  \n",
       "3  Making somebody happy is a question of give an...  \n",
       "4  Making somebody happy is a question of give an...  "
      ]
     },
     "execution_count": 43,
     "metadata": {},
     "output_type": "execute_result"
    }
   ],
   "source": [
    "df.head()"
   ]
  },
  {
   "cell_type": "code",
   "execution_count": 59,
   "metadata": {},
   "outputs": [
    {
     "ename": "TypeError",
     "evalue": "'float' object is not subscriptable",
     "output_type": "error",
     "traceback": [
      "\u001b[31m---------------------------------------------------------------------------\u001b[39m",
      "\u001b[31mTypeError\u001b[39m                                 Traceback (most recent call last)",
      "\u001b[36mCell\u001b[39m\u001b[36m \u001b[39m\u001b[32mIn[59]\u001b[39m\u001b[32m, line 1\u001b[39m\n\u001b[32m----> \u001b[39m\u001b[32m1\u001b[39m embeddings = \u001b[43mmodel\u001b[49m\u001b[43m.\u001b[49m\u001b[43mencode\u001b[49m\u001b[43m(\u001b[49m\u001b[43mtest\u001b[49m\u001b[43m[\u001b[49m\u001b[33;43m'\u001b[39;49m\u001b[33;43mlyrics\u001b[39;49m\u001b[33;43m'\u001b[39;49m\u001b[43m]\u001b[49m\u001b[43m.\u001b[49m\u001b[43mtolist\u001b[49m\u001b[43m(\u001b[49m\u001b[43m)\u001b[49m\u001b[43m,\u001b[49m\u001b[43m \u001b[49m\u001b[43mbatch_size\u001b[49m\u001b[43m=\u001b[49m\u001b[32;43m64\u001b[39;49m\u001b[43m,\u001b[49m\u001b[43m \u001b[49m\u001b[43mconvert_to_numpy\u001b[49m\u001b[43m=\u001b[49m\u001b[38;5;28;43;01mTrue\u001b[39;49;00m\u001b[43m,\u001b[49m\u001b[43m \u001b[49m\u001b[43mdevice\u001b[49m\u001b[43m=\u001b[49m\u001b[43mdevice\u001b[49m\u001b[43m)\u001b[49m\n",
      "\u001b[36mFile \u001b[39m\u001b[32m~/Documents/diss/copy/synoptic-project-CameronFMacKay/.venv/lib/python3.13/site-packages/sentence_transformers/SentenceTransformer.py:591\u001b[39m, in \u001b[36mSentenceTransformer.encode\u001b[39m\u001b[34m(self, sentences, prompt_name, prompt, batch_size, show_progress_bar, output_value, precision, convert_to_numpy, convert_to_tensor, device, normalize_embeddings, **kwargs)\u001b[39m\n\u001b[32m    589\u001b[39m \u001b[38;5;28;01mfor\u001b[39;00m start_index \u001b[38;5;129;01min\u001b[39;00m trange(\u001b[32m0\u001b[39m, \u001b[38;5;28mlen\u001b[39m(sentences), batch_size, desc=\u001b[33m\"\u001b[39m\u001b[33mBatches\u001b[39m\u001b[33m\"\u001b[39m, disable=\u001b[38;5;129;01mnot\u001b[39;00m show_progress_bar):\n\u001b[32m    590\u001b[39m     sentences_batch = sentences_sorted[start_index : start_index + batch_size]\n\u001b[32m--> \u001b[39m\u001b[32m591\u001b[39m     features = \u001b[38;5;28;43mself\u001b[39;49m\u001b[43m.\u001b[49m\u001b[43mtokenize\u001b[49m\u001b[43m(\u001b[49m\u001b[43msentences_batch\u001b[49m\u001b[43m)\u001b[49m\n\u001b[32m    592\u001b[39m     \u001b[38;5;28;01mif\u001b[39;00m \u001b[38;5;28mself\u001b[39m.device.type == \u001b[33m\"\u001b[39m\u001b[33mhpu\u001b[39m\u001b[33m\"\u001b[39m:\n\u001b[32m    593\u001b[39m         \u001b[38;5;28;01mif\u001b[39;00m \u001b[33m\"\u001b[39m\u001b[33minput_ids\u001b[39m\u001b[33m\"\u001b[39m \u001b[38;5;129;01min\u001b[39;00m features:\n",
      "\u001b[36mFile \u001b[39m\u001b[32m~/Documents/diss/copy/synoptic-project-CameronFMacKay/.venv/lib/python3.13/site-packages/sentence_transformers/SentenceTransformer.py:1056\u001b[39m, in \u001b[36mSentenceTransformer.tokenize\u001b[39m\u001b[34m(self, texts)\u001b[39m\n\u001b[32m   1045\u001b[39m \u001b[38;5;28;01mdef\u001b[39;00m\u001b[38;5;250m \u001b[39m\u001b[34mtokenize\u001b[39m(\u001b[38;5;28mself\u001b[39m, texts: \u001b[38;5;28mlist\u001b[39m[\u001b[38;5;28mstr\u001b[39m] | \u001b[38;5;28mlist\u001b[39m[\u001b[38;5;28mdict\u001b[39m] | \u001b[38;5;28mlist\u001b[39m[\u001b[38;5;28mtuple\u001b[39m[\u001b[38;5;28mstr\u001b[39m, \u001b[38;5;28mstr\u001b[39m]]) -> \u001b[38;5;28mdict\u001b[39m[\u001b[38;5;28mstr\u001b[39m, Tensor]:\n\u001b[32m   1046\u001b[39m \u001b[38;5;250m    \u001b[39m\u001b[33;03m\"\"\"\u001b[39;00m\n\u001b[32m   1047\u001b[39m \u001b[33;03m    Tokenizes the texts.\u001b[39;00m\n\u001b[32m   1048\u001b[39m \n\u001b[32m   (...)\u001b[39m\u001b[32m   1054\u001b[39m \u001b[33;03m            \"attention_mask\", and \"token_type_ids\".\u001b[39;00m\n\u001b[32m   1055\u001b[39m \u001b[33;03m    \"\"\"\u001b[39;00m\n\u001b[32m-> \u001b[39m\u001b[32m1056\u001b[39m     \u001b[38;5;28;01mreturn\u001b[39;00m \u001b[38;5;28;43mself\u001b[39;49m\u001b[43m.\u001b[49m\u001b[43m_first_module\u001b[49m\u001b[43m(\u001b[49m\u001b[43m)\u001b[49m\u001b[43m.\u001b[49m\u001b[43mtokenize\u001b[49m\u001b[43m(\u001b[49m\u001b[43mtexts\u001b[49m\u001b[43m)\u001b[49m\n",
      "\u001b[36mFile \u001b[39m\u001b[32m~/Documents/diss/copy/synoptic-project-CameronFMacKay/.venv/lib/python3.13/site-packages/sentence_transformers/models/Transformer.py:494\u001b[39m, in \u001b[36mTransformer.tokenize\u001b[39m\u001b[34m(self, texts, padding)\u001b[39m\n\u001b[32m    492\u001b[39m batch1, batch2 = [], []\n\u001b[32m    493\u001b[39m \u001b[38;5;28;01mfor\u001b[39;00m text_tuple \u001b[38;5;129;01min\u001b[39;00m texts:\n\u001b[32m--> \u001b[39m\u001b[32m494\u001b[39m     batch1.append(\u001b[43mtext_tuple\u001b[49m\u001b[43m[\u001b[49m\u001b[32;43m0\u001b[39;49m\u001b[43m]\u001b[49m)\n\u001b[32m    495\u001b[39m     batch2.append(text_tuple[\u001b[32m1\u001b[39m])\n\u001b[32m    496\u001b[39m to_tokenize = [batch1, batch2]\n",
      "\u001b[31mTypeError\u001b[39m: 'float' object is not subscriptable"
     ]
    }
   ],
   "source": [
    "embeddings = model.encode(test['lyrics'].tolist(), batch_size=64, convert_to_numpy=True, device=device)"
   ]
  },
  {
   "cell_type": "code",
   "execution_count": null,
   "metadata": {},
   "outputs": [],
   "source": [
    "index = faiss.IndexFlatL2(embeddings.shape[1])  # L2 Distance Index\n",
    "index.add(embeddings)\n",
    "faiss.write_index(index, \"song_lyrics3.index\")\n"
   ]
  },
  {
   "cell_type": "code",
   "execution_count": null,
   "metadata": {},
   "outputs": [],
   "source": [
    "db_conn = sqlite3.connect(\"songs3.db\")\n",
    "df.to_sql(\"songs\", db_conn, if_exists=\"replace\", index=True)\n",
    "db_conn.close()"
   ]
  },
  {
   "cell_type": "code",
   "execution_count": 50,
   "metadata": {},
   "outputs": [
    {
     "data": {
      "text/plain": [
       "artist    57650\n",
       "title     57650\n",
       "lyrics    57650\n",
       "dtype: int64"
      ]
     },
     "execution_count": 50,
     "metadata": {},
     "output_type": "execute_result"
    }
   ],
   "source": [
    "df.count()"
   ]
  },
  {
   "cell_type": "code",
   "execution_count": 52,
   "metadata": {},
   "outputs": [
    {
     "name": "stdout",
     "output_type": "stream",
     "text": [
      "[(57629, 'Zebrahead', 'House Is Not My Home', \"Well I'm tired, so tired of getting up and wasting another day  \\r\\nI wish the picture on the wall would still say it all  \\r\\nBut now yesterday is so far away  \\r\\nAnd I would give anything, say anything  \\r\\n  \\r\\nTo keep it all like it was  \\r\\nBut you just throw it all away  \\r\\nAnd I think this house is not my home  \\r\\nI think that I'd rather be alone tonight  \\r\\nI'm trying, trying to fake it  \\r\\n  \\r\\nI'm tired, so tired, of giving up and taking all the blame  \\r\\nI wish the shouting and the fights would stop for the night  \\r\\nCan't close my eyes and make them all go away  \\r\\nAnd I would give anything, say anything  \\r\\nTo keep it all like it was  \\r\\nBut you just throw it all away  \\r\\n  \\r\\n[Chorus]  \\r\\n  \\r\\nThis is the part where you say  \\r\\nYou can't stay together just for me  \\r\\nThis is the part where you make me choose  \\r\\nOn whose side I want to be  \\r\\nThis is the part where you decide  \\r\\nWhat's going to be best for me  \\r\\nThis is the start  \\r\\nNow we grow apart  \\r\\nNow we grow apart  \\r\\n  \\r\\n[Chorus]\\r\\n\\r\\n\")]\n"
     ]
    }
   ],
   "source": [
    "db_conn = sqlite3.connect(\"songs2.db\")\n",
    "cursor = db_conn.cursor()\n",
    "cursor.execute(\"SELECT * FROM songs WHERE rowid = ?\", (57630,))\n",
    "row = cursor.fetchall()\n",
    "print(row)\n"
   ]
  },
  {
   "cell_type": "code",
   "execution_count": 33,
   "metadata": {},
   "outputs": [],
   "source": [
    "def search_songs(tag, top_k=5):\n",
    "    tag_embedding = model.encode([tag], convert_to_numpy=True, device=device)\n",
    "    index = faiss.read_index(\"song_lyrics.index\")\n",
    "    distances, indices = index.search(tag_embedding, top_k)\n",
    "    # Retrieve song metadata\n",
    "    db_conn = sqlite3.connect(\"songs.db\")\n",
    "    cursor = db_conn.cursor()\n",
    "    \n",
    "    results = []\n",
    "    for idx, distance in zip(indices[0], distances[0]):\n",
    "        cursor.execute(\"SELECT artist, title, lyrics FROM songs WHERE rowid = ?\", (int(idx)+1,))\n",
    "        row = cursor.fetchone()\n",
    "        print(row)\n",
    "        if row:\n",
    "            artist, title, lyrics = row\n",
    "            results.append((artist, title, lyrics, distance))\n",
    "    \n",
    "    db_conn.close()\n",
    "    return results"
   ]
  },
  {
   "cell_type": "code",
   "execution_count": 53,
   "metadata": {},
   "outputs": [
    {
     "name": "stdout",
     "output_type": "stream",
     "text": [
      "('MF DOOM', 'Deep Fried Frenz', 'intro\\nbefore we go any further\\nfriends\\n\\nverse\\nas you call em they call you when they need something\\ntrees for the bluntin to gs for the frontin\\ni found a way to get peace of mind for years and left the hell alone\\nturn a deaf ear to the cellular phone\\nsend me a letter or better we could see each other in real life\\njust so you could feel me like a steel knife\\nat least so you could see the white of they eyes\\nbright with surprise once they finish spitting lies\\nassociates is your boys your girls bitches niggas homies\\nclose or really dont know me\\nmom dad comrade peeps brothers sisters duns dunnies\\nsome come around when they need some money\\nothers make us laugh like the sunday funnies\\nfam be around whether you paid or bummy\\nyou could either ignore this advice or take it from me\\nbe too nice and people take you for a dummy\\nso nowadays he aint so friendly\\nactually they wouldn’t even made a worthy enemy\\nread the signs no feeding the baboons\\nseein as how they got ya back bleeding from the stab wounds\\nyall know the dance they smile in ya face yall know the glance\\ntry to put em on they blow the chance\\nnever let your socalled mans know your plans\\nhow many of us have them a show of hands\\nfriends is a term some people use loosely\\nim real choosy on what i choose to let crew see\\nyou telling me i try to act broke\\njealousy the number one killer among black folk\\nfellas be under some type of spell like crack smoke\\nghetto cinderellas lead em right to your stack loc\\njust another way a chickll lead to your end\\ni checked the dictionary for the meaning of friend\\nit said person one likes to socialize with\\nsympathizer helper and thats about the size of it\\nmost of the time these attributes is onesided\\nto bolster the crime theyre apt to shoot you through your eyelid\\nand they cant hide it going wild like a white bitch\\nsometimes ya need to cut niggas off like a light switch\\nflick and when things get quiet\\ncatch em like a thief in the night what a riot\\ni first met mr fantastik at a arms deal\\ndont let it get drastic think of how your momsll feel\\nwhen it get for real steel get to sparkin\\neverything darken it aint no talkin\\nfor somethin so cheap it sure buys a lot of trouble\\nya better off focusing than tryin to plot to bubble\\nor else itd be a sad note to end on the guns we got is\\nones we can depend on friends\\nsome come in the form of codependents\\na lot of times only end up being codefendants\\nten bucks say they tell for a lower sentence\\nand leave you up under the jail begging for repentance\\nit dont make no sense what happened to the loyalty\\nhonor amongst crooks trust among royalty\\nid rather go out in a blaze than give em the glory\\nhow many of us have— a similar story\\nfriends before lovers we used to have some type of overstanding\\njust so when i let her get the man thing\\nshe know its no strings we could do the damn thing\\nbut ho its no rings just how the tramp swings\\nwill she see him again that depends on\\nhow good was the skins and could she memorize the lessons\\nit aint no need to pretend\\neven though she let him stab it she know theyre just friends\\noutro\\nfriends\\nhow many of us have them\\nfriends\\nones we can depend on\\nfriends\\nhow many of us have them\\nfriends\\nbefore we go any further\\n\\nskit\\nfellas dont be silly i know who my friends are\\nand the next nice neighborhood i move into you guysll get crack\\nnegro humor always escaped me\\n\\noutro skit character 1 mr fantastic invisible woman\\ndr doom character 2\\nthe most powerful the most mysterious monarch in all the world\\nguided by a fighting force that never sleeps\\nthat never relaxes its vigilance\\nfor none is as feared none has as many foes\\nas doom the awesome armorclad lord of\\ni know who doom is then tell us\\nhe happens to be the most dangerous man in the world\\ni’d hope we’d never hear from him\\ni’d hope we’d never have to battle him\\nbut now the worst has happened and i must tell you what we’re up against\\ni first met doom years ago\\nwhen he wanted to be alone alone to pursue his forbidden experiments\\none day while conducting a secret experiment\\nexplosion sounds later when he recovered from his injuries\\ninstead of having learned his lesson doom was bitter angry vengeful\\nwoman screams what have i done to myself\\nmy face it is hideous\\nhe traveled the world seeking a cure for his disfigured face\\ni’m sorry sir there is nothing we can do for you\\nhe traveled through remote villages where strangers are seldom seen\\nhe continued his search never showing his face\\nunless threatened by bandits who prey on travelers\\nwho foolishly wander alone through their domain')\n",
      "('Lakim Shabazz', 'The Lost Tribe of Shabazz', 'our people will survive america\\n\\nverse 1\\nmy people were took from the motherland\\nby the other man\\nbrought to the wilderness\\nlike a ventriloquist\\nplayed my people like puppets by plantin fear in their heart\\nnowadays most of us dont know where to start\\n10 of us can help but dont feel the need\\nthey love greed\\nand this really bothers me\\n85 of us are totally ignorant\\nwalkin around with the nigga mentality\\n5 of us are ready to die for the cause\\nof course the source is elijah\\nknowledge of self is what you need to stop the bull\\nif you dont get it im held responsible\\nrhymes i make are designed to reach the youth\\ni gotta teach thats why i speak the truth\\nsome waste time dwellin on the past\\nits time they know that were the lost tribe of shabazz\\nour people will survive america\\nour people will survive america\\n\\nverse 2\\nstay awake and dont sleep cause im comin after ya\\ndevils i smash and leave em flat as a spatula\\nback again the mathematical radical\\ngettin emotional very emphatical\\nthe original man uses 23 million square miles on the planet earth\\nconstantly buildin\\non the other hand the other man wants to confuse ya\\nsimple psychology tricknowlogy fools ya\\nthey have you believe we descend from cannibals\\nshow you pictures of africans lookin like animals\\nhow could we be animals look at the things we did\\nwith our own bare hands we built pyramids\\nblind deaf and dumb is how they raised ya\\nto them its africa to us its asia\\nto get to the point to make it clear to ya\\ntheyre no superior and were not inferior\\ni got the other man pointin at me cause i licked him\\ntook a stand for the black man and didnt fall victim\\nthe nation is growin rapid and fast\\nthats why im tellin you were the lost tribe of shabazz\\n\\nour people will survive america\\nour people will survive america\\nour people will survive america\\nour people will survive america\\nverse 3\\ni couldnt wait to battle a beat like this track\\nits so def i had to pump my fist black\\nmy rhymes weigh six sextillion tons\\nheavy as the earth a lyrical function\\nimagine if every black man woman and child\\nwould simply refuse\\nto go to work for one day\\ndo you know how much money these companies would lose\\nsince everythings based on money thats what we gotta get\\nwe gotta learn when to quit when not to quit\\nits really sad i know some people\\nthink that one day well be treated as equal\\nits the land of the freedom or so they say so\\nthey tell youre free yeah but free to do what though\\noff our arms and legs they took the chains\\nbig deal  they still left em around our brains\\nthings i say make the government fear this\\ni speak with authority so you can hear this\\ni hate oreos thats why i gots to bomb\\nyou socalled niggerish uncle toms\\nwere on a riseup you better wise up\\nyou cant stop us now are you surprised duck\\nyou might take it as a political outblast\\nbut were the lost tribe of shabazz\\nour people will survive america\\nour people will survive america\\nour people will survive america\\nour people will survive america\\nour people will survive america\\nour people will survive america\\nour people will survive america\\nour people will survive america')\n",
      "('JAY-Z', 'Hate', 'intro jayz  kanye west\\nhaters\\nhaters—these niggas is haters\\nand i made myself so easy to love\\nyeah\\nyeah\\n\\nverse 1 kanye west\\nhow much they hate it very\\nkiss girls like katy perry\\ni am never sprung but i spring er jerry\\ndon’t try this at home results may vary\\nking like ti but in the chi larry\\n\\nverse 2 jayz\\nhoover hova\\nboth are american gangsters\\nyou choose whos colder\\nrappers get nasty in the booth but im grosser\\ni can’t even stomach myself ulcer\\nmore realer cause im closer\\nhad girlies in girdles weighing more than they supposed to\\nposer no sir\\nmy hustle so russell\\ni stretch work yoga\\nyou know i got it down dog\\nal roker i used to knock pounds off\\nit ain’t nothing for me to knock nouns off\\nand these mcs praying for my downfall\\nthey just haters\\ni wave at you i’m so player\\ni’ll never be done i’m so rare\\nverse 3 kanye west\\nwe killing the game its not fair\\nyou motherfuckers stay right there\\ncause we too high up in the air\\nwe blasting off just like a laser\\nnigga pyong pyong pyong\\nget back give me room room room\\ndb9 like vroom vroom vroom\\nyoung hov what we doin doin doin\\n\\nverse 4 jayz\\nwe ballin bitches\\neating yall food leaving dishes\\nwhy these niggas always talking lear talk ye\\nwhy i never see em at the clearport ye\\nwhy always hear they at the airport\\nwhile i fly daily like im in the air force ayy\\ntherefore please stop talking my ears off millionaire talk\\nyou haters you mad at me cause your paper\\nneed to get its motherfucking weight up\\nhold up wait up i ain’t done\\nname one thing i ain’t done\\nit hurts when you say that i aint the one\\nyou haters how do i gain your favor\\ni need to know cause i care\\ni need you to love me i swear—look here\\nsee ye is running the chi like gale sayers\\nim running new york i got the mayor on my pager\\nyou can’t fade us you haters\\ni need you stay there\\ni breathe you like air\\noutro jayz\\nayyer\\nyeahyeahyeah yayyer\\nyeahyeahyeah yayyer\\nwhere all my haters\\ni love all my haters\\nlove all my haters\\ni love all my haters\\nwhere the fuck is my haters hater\\nyayyer haha')\n",
      "('Heene Boyz', 'Not Pussified', 'i hate these pajamas\\nthese pajamas arent stitched for me\\npajamas are pussified\\n\\nah whoa\\nlisten to our story bout three school kids\\nwere on wife swap were not some pigs\\nwe go storm chasin with mom and dad\\nand a tornado would make us glad\\nwe eat slim jims were out in the road\\ndrop our pants take a big load\\n\\ntexas colorado dallas amarillo\\nsouth dakota north dakota and kansas city too\\noklahoma city girls got big ah\\ngainesboro wichita omaha too\\nhalf past the monkeys ass quarter to his balls\\nyeah\\n\\nwe chase dust devils get sand in our pants\\nour flies are itchin its the fire ants\\nif youre trying to  us and cant keep up\\nif youre talking about me you can shut the ah up\\nthats my mama on a big white ax\\npeople are watching you pay the cash\\nmoms guitar solo\\n\\nmy name is ryo i love the big trains\\ni run your ass over if i think youre a pain\\nthats my papa and hes making it stick\\ntake it away daddy he aint no dick\\n\\ndads harmonica solo\\n\\ni am bradford i am number one\\ni get good grades and have some fun\\nwe are the heene boys were not pussified\\nwe eat baked beans now were fortified\\n\\nbeans beans good for your heart\\nthe more you eat the more you fart\\nthe more you fart the better you feel\\nso eat beans beans for every meal\\n\\nwe go to school to get an education\\nno homeschool thats pussification\\nmy name is falcon ill kick you in the nuts\\ni hate big unintelligible i think youre a putz\\ni walk into my backyard with my uh in my hand\\ni give all my ah boogerman\\ni look up in the tree what do i see\\ni see  tryin to pee on me\\nso i pick up a rock throw it at his ah\\nhe fell to the floor and his ah fell off\\ni took him to the doctor and the doctor said\\nsorry bout that hes dead\\nwe are the heene boys we are fortified\\nwere not whipped punks were not pussified\\nwe are the heene boys we are fortified\\nwere not whipped punks were not pussified')\n",
      "('Atmosphere', 'Trying to Find a Balance', 'intro\\nthey love the taste of blood\\nnow i dont know what that means but i know that i mean it\\nmaybe theyre as evil as they seem\\nor maybe i only look out the window when its scenic\\natmosphere finally made a good record\\nyeah right that shit almost sounds convincing\\nthe last time i felt as sick and contradictive as this\\nwas the last time we played a show in cincy\\nget real they tell me\\nif only they knew how real this life really gets\\nthey would stop acting like a silly bitch\\nthey would respect the cock whether or not they believed in it\\n\\nverse 1\\ndoesnt take much and thats messed up\\nbecause these people do a lot of simple shit to impress us\\nwhile everyone was trying to outdo the last man\\ni was just a ghost trying to catch some ms pacman\\nhello maam would you be interested\\nin some sexual positions and emotional investments\\nsee im not insane in fact im kind of rational\\nwhen i be asking yo where did all the passion go\\neast coast west coast down south midwest\\nnowadays everybody knows how to get fresh\\nsomebody give me a big yes\\ngod bless america but she stole the b from bless and kept it\\nnow im too fucked up to dance\\nso imma sit with my hand down the front of my pants\\nyou cant achieve your goals if you dont take that chance\\nso go pry open that trunk and get those amps\\nchorus\\nin the days of kings and queens i was a jester\\ntreat me like a god or they treat me like a leper\\nyou see me move back and forth between both\\nim trying to find a balance\\nim trying to build a balance\\n\\nverse 2\\nso now i keep a close eye on my pets\\nbecause they make most of they moves off of instinct and scents\\nits eat sleep fuck and selfdefense\\nso straight you can set your clocks and place bets\\nwait lets prey on the blind deaf dumb dead\\nhustle maybe a couple will love what you said\\nemcees drag their feet across a big naked land\\nwith an empty bag of seed and a fake shake of hand\\nyeah i got some last words fuck all of yall\\nstop writing raps and go play volleyball\\ngotta journey the world in a hurry\\ncause my attorney didnt put enough girls on the jury\\nguilty of dropping these bombs in the city\\nbut im innocent love is the motive thats why im killing em\\nguilty of setting my fire in all fifty\\nbut im innocent blame it on my equilibrium\\n\\nchorus\\nin the days of kings and queens i was a jester\\ntreat me like a god or they treat me like a leper\\nyou see me move back and forth between both\\nim trying to find a balance\\nim trying to build a balance\\noutro\\nnow all my friends are famous\\nits either one thing or another\\nthey all dont know what my name is\\nprobably know both of my brothers\\nthe one is a hard workin savior\\nthe others a hard workin soldier\\nim just your nextdoor neighbor\\nworking hard at tryin to stay sober\\nyou wait for the car at the corner\\npretend like you know what the plot is\\nwont quit till i hit california\\nand make you my golden state goddess')\n",
      "Most similar song:\n"
     ]
    },
    {
     "ename": "TypeError",
     "evalue": "unsupported format string passed to tuple.__format__",
     "output_type": "error",
     "traceback": [
      "\u001b[31m---------------------------------------------------------------------------\u001b[39m",
      "\u001b[31mTypeError\u001b[39m                                 Traceback (most recent call last)",
      "\u001b[36mCell\u001b[39m\u001b[36m \u001b[39m\u001b[32mIn[53]\u001b[39m\u001b[32m, line 5\u001b[39m\n\u001b[32m      3\u001b[39m \u001b[38;5;28;01mif\u001b[39;00m results:\n\u001b[32m      4\u001b[39m     \u001b[38;5;28mprint\u001b[39m(\u001b[33m\"\u001b[39m\u001b[33mMost similar song:\u001b[39m\u001b[33m\"\u001b[39m)\n\u001b[32m----> \u001b[39m\u001b[32m5\u001b[39m     \u001b[38;5;28mprint\u001b[39m(\u001b[33mf\u001b[39m\u001b[33m\"\u001b[39m\u001b[33mTitle: \u001b[39m\u001b[38;5;132;01m{\u001b[39;00mresults[\u001b[32m1\u001b[39m]\u001b[38;5;132;01m}\u001b[39;00m\u001b[38;5;130;01m\\n\u001b[39;00m\u001b[33mLyrics: \u001b[39m\u001b[38;5;132;01m{\u001b[39;00mresults[\u001b[32m3\u001b[39m][:\u001b[32m200\u001b[39m]\u001b[38;5;132;01m}\u001b[39;00m\u001b[33m...\u001b[39m\u001b[38;5;130;01m\\n\u001b[39;00m\u001b[33mSimilarity Score: \u001b[39m\u001b[38;5;132;01m{\u001b[39;00mresults[\u001b[32m4\u001b[39m]\u001b[38;5;132;01m:\u001b[39;00m\u001b[33m.4f\u001b[39m\u001b[38;5;132;01m}\u001b[39;00m\u001b[38;5;130;01m\\n\u001b[39;00m\u001b[33m\"\u001b[39m)\n\u001b[32m      6\u001b[39m \u001b[38;5;28;01melse\u001b[39;00m:\n\u001b[32m      7\u001b[39m     \u001b[38;5;28mprint\u001b[39m(\u001b[33m\"\u001b[39m\u001b[33mNo matching songs found.\u001b[39m\u001b[33m\"\u001b[39m)\n",
      "\u001b[31mTypeError\u001b[39m: unsupported format string passed to tuple.__format__"
     ]
    }
   ],
   "source": [
    "tag = \"they not like us\"\n",
    "results = search_songs(tag)\n",
    "if results:\n",
    "    print(\"Most similar song:\")\n",
    "    print(f\"Title: {results[1]}\\nLyrics: {results[3][:200]}...\\nSimilarity Score: {results[4]:.4f}\\n\")\n",
    "else:\n",
    "    print(\"No matching songs found.\")"
   ]
  }
 ],
 "metadata": {
  "kernelspec": {
   "display_name": ".venv",
   "language": "python",
   "name": "python3"
  },
  "language_info": {
   "codemirror_mode": {
    "name": "ipython",
    "version": 3
   },
   "file_extension": ".py",
   "mimetype": "text/x-python",
   "name": "python",
   "nbconvert_exporter": "python",
   "pygments_lexer": "ipython3",
   "version": "3.13.2"
  }
 },
 "nbformat": 4,
 "nbformat_minor": 2
}
