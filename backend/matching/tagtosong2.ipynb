{
 "cells": [
  {
   "cell_type": "code",
   "execution_count": 5,
   "metadata": {},
   "outputs": [],
   "source": [
    "import faiss\n",
    "import sqlite3\n",
    "import pandas as pd\n",
    "import numpy as np\n",
    "from sentence_transformers import SentenceTransformer\n",
    "import torch\n",
    "\n",
    "# Load model"
   ]
  },
  {
   "cell_type": "code",
   "execution_count": 6,
   "metadata": {},
   "outputs": [],
   "source": [
    "device = \"mps\" if torch.backends.mps.is_available() else \"cpu\"\n",
    "model = SentenceTransformer(\"all-MiniLM-L6-v2\").to(device)"
   ]
  },
  {
   "cell_type": "code",
   "execution_count": 4,
   "metadata": {},
   "outputs": [],
   "source": [
    "df = pd.read_csv('songs_lyrics_adjusted.csv')\n",
    "df[\"lyrics\"] = df[\"lyrics\"].fillna(\"\")"
   ]
  },
  {
   "cell_type": "code",
   "execution_count": 8,
   "metadata": {},
   "outputs": [],
   "source": [
    "test = df[:1000]"
   ]
  },
  {
   "cell_type": "code",
   "execution_count": 9,
   "metadata": {},
   "outputs": [],
   "source": [
    "embeddings = model.encode(test['lyrics'].tolist(), batch_size=64, convert_to_numpy=True, device=device)"
   ]
  },
  {
   "cell_type": "code",
   "execution_count": 10,
   "metadata": {},
   "outputs": [],
   "source": [
    "index = faiss.IndexFlatL2(embeddings.shape[1])  # L2 Distance Index\n",
    "index.add(embeddings)\n",
    "faiss.write_index(index, \"song_lyrics.index\")\n"
   ]
  },
  {
   "cell_type": "code",
   "execution_count": 11,
   "metadata": {},
   "outputs": [],
   "source": [
    "db_conn = sqlite3.connect(\"songs.db\")\n",
    "df.to_sql(\"songs\", db_conn, if_exists=\"replace\", index=True)\n",
    "db_conn.close()"
   ]
  },
  {
   "cell_type": "code",
   "execution_count": 45,
   "metadata": {},
   "outputs": [
    {
     "name": "stdout",
     "output_type": "stream",
     "text": [
      "[('intro hayley williams\\ncan we pretend that airplanes\\nin the night sky are like shooting stars\\ni could really use a wish right now\\nwish right now wish right now\\ncan we pretend that airplanes\\nin the night sky are like shooting stars\\ni could really use a wish right now\\nwish right now wish right now\\n\\nverse 1 bob\\nyeah i could use a dream or a genie or a wish\\nto go back to a place much simpler than this\\ncause after all the partyin and smashin and crashin\\nand all the glitz and the glam and the fashion\\nand all the pandemonium and all the madness\\nthere comes a time where you fade to the blackness\\nand when you starin at that phone in your lap\\nand you hopin but them people never call you back\\nbut thats just how the story unfolds\\nyou get another hand soon after you fold\\nand when your plans unravel in the sand\\nwhat would you wish for if you had one chance\\nso airplane airplane sorry im late\\nim on my way so dont close that gate\\nif i dont make that then ill switch my flight\\nand ill be right back at it by the end of the night\\nchorus hayley williams bob both\\ncan we pretend that airplanes\\nin the night sky are like shooting stars shooting stars\\ni could really use a wish right now\\nwish right now wish right now\\ncan we pretend that airplanes\\nin the night sky are like shooting stars shooting stars\\ni could really use a wish right now\\nwish right now wish right now\\n\\nverse 2 bob\\nyeah yeah somebody take me back to the days\\nbefore this was a job before i got paid\\nbefore it ever mattered what i had in my bank\\nyeah back when i was tryna get a tip at subway\\nand back when i was rappin for the hell of it\\nbut nowadays we rappin to stay relevant\\nim guessin that if we can make some wishes out of airplanes\\nthen maybe oh maybe ill go back to the days\\nbefore the politics that we call the rap game\\nand back when aint nobody listened to my mixtape\\nand back before i tried to cover up my slang\\nbut this is for decatur—whats up bobby ray\\nso can i get a wish to end the politics\\nand get back to the music that started this shit\\nso here i stand and then again i say\\nim hopin we can make some wishes out of airplanes\\nchorus hayley williams bob both\\ncan we pretend that airplanes\\nin the night sky are like shooting stars shooting stars\\ni could really use a wish right now\\nwish right now wish right now\\ncan we pretend that airplanes\\nin the night sky are like shooting stars shooting stars\\ni could really use a wish right now\\nwish right now wish right now\\n\\noutro bob hayley williams\\ni could really use a wish right now woahohohoh\\ni i i could really use a wish right now mmmmmmmmm\\nlike like like shooting stars ahhahahah\\ni i i could really use a wish right now ahahahah\\na wish a wish right now',)]\n"
     ]
    }
   ],
   "source": [
    "db_conn = sqlite3.connect(\"songs.db\")\n",
    "cursor = db_conn.cursor()\n",
    "cursor.execute(\"SELECT lyrics FROM songs WHERE rowid = ?\", (451+1,))\n",
    "row = cursor.fetchall()\n",
    "print(row)\n"
   ]
  },
  {
   "cell_type": "code",
   "execution_count": 56,
   "metadata": {},
   "outputs": [],
   "source": [
    "def search_songs(tag, top_k=5):\n",
    "    tag_embedding = model.encode([tag], convert_to_numpy=True, device=device)\n",
    "    index = faiss.read_index(\"song_lyrics.index\")\n",
    "    distances, indices = index.search(tag_embedding, top_k)\n",
    "    # Retrieve song metadata\n",
    "    db_conn = sqlite3.connect(\"songs.db\")\n",
    "    cursor = db_conn.cursor()\n",
    "    \n",
    "    results = []\n",
    "    for idx, distance in zip(indices[0], distances[0]):\n",
    "        cursor.execute(\"SELECT title, lyrics FROM songs WHERE rowid = ?\", (int(idx)+1,))\n",
    "        row = cursor.fetchone()\n",
    "        print(row)\n",
    "        if row:\n",
    "            title, lyrics = row\n",
    "            results.append((title, lyrics, distance))\n",
    "    \n",
    "    db_conn.close()\n",
    "    return results"
   ]
  },
  {
   "cell_type": "code",
   "execution_count": 57,
   "metadata": {},
   "outputs": [
    {
     "name": "stdout",
     "output_type": "stream",
     "text": [
      "[[451 754 872 537  85]]\n",
      "[[1.221153  1.4340206 1.5551693 1.5673573 1.5746797]]\n",
      "<class 'numpy.int64'>\n",
      "('Airplanes', 'intro hayley williams\\ncan we pretend that airplanes\\nin the night sky are like shooting stars\\ni could really use a wish right now\\nwish right now wish right now\\ncan we pretend that airplanes\\nin the night sky are like shooting stars\\ni could really use a wish right now\\nwish right now wish right now\\n\\nverse 1 bob\\nyeah i could use a dream or a genie or a wish\\nto go back to a place much simpler than this\\ncause after all the partyin and smashin and crashin\\nand all the glitz and the glam and the fashion\\nand all the pandemonium and all the madness\\nthere comes a time where you fade to the blackness\\nand when you starin at that phone in your lap\\nand you hopin but them people never call you back\\nbut thats just how the story unfolds\\nyou get another hand soon after you fold\\nand when your plans unravel in the sand\\nwhat would you wish for if you had one chance\\nso airplane airplane sorry im late\\nim on my way so dont close that gate\\nif i dont make that then ill switch my flight\\nand ill be right back at it by the end of the night\\nchorus hayley williams bob both\\ncan we pretend that airplanes\\nin the night sky are like shooting stars shooting stars\\ni could really use a wish right now\\nwish right now wish right now\\ncan we pretend that airplanes\\nin the night sky are like shooting stars shooting stars\\ni could really use a wish right now\\nwish right now wish right now\\n\\nverse 2 bob\\nyeah yeah somebody take me back to the days\\nbefore this was a job before i got paid\\nbefore it ever mattered what i had in my bank\\nyeah back when i was tryna get a tip at subway\\nand back when i was rappin for the hell of it\\nbut nowadays we rappin to stay relevant\\nim guessin that if we can make some wishes out of airplanes\\nthen maybe oh maybe ill go back to the days\\nbefore the politics that we call the rap game\\nand back when aint nobody listened to my mixtape\\nand back before i tried to cover up my slang\\nbut this is for decatur—whats up bobby ray\\nso can i get a wish to end the politics\\nand get back to the music that started this shit\\nso here i stand and then again i say\\nim hopin we can make some wishes out of airplanes\\nchorus hayley williams bob both\\ncan we pretend that airplanes\\nin the night sky are like shooting stars shooting stars\\ni could really use a wish right now\\nwish right now wish right now\\ncan we pretend that airplanes\\nin the night sky are like shooting stars shooting stars\\ni could really use a wish right now\\nwish right now wish right now\\n\\noutro bob hayley williams\\ni could really use a wish right now woahohohoh\\ni i i could really use a wish right now mmmmmmmmm\\nlike like like shooting stars ahhahahah\\ni i i could really use a wish right now ahahahah\\na wish a wish right now')\n",
      "yes\n",
      "<class 'numpy.int64'>\n",
      "('Airplanes Pt. 2', 'chorus hayley williams\\ncan we pretend that airplanes\\nin the night sky are like shooting stars\\ni could really use a wish right now\\nwish right now wish right now\\ncan we pretend that airplanes\\nin the night sky are like shooting stars\\ni could really use a wish right now\\nwish right now wish right now\\n\\npostchorus bob\\ndreaming… of falling\\ndreaming… of falling\\n\\nverse 1 bob\\nyeah lets pretend like its 98\\nlike im eatin lunch off of styrofoam trays\\ntryin to be the next rapper comin out the a atown\\nhopin for a record deal to ignore my pain\\nyeah now lets pretend like im on the stage\\nand when my beat drops everybody goes insane\\nokay and everybody know my name bob\\nand everywhere i go people wanna hear me sang\\noh yeah and i just dropped my new album\\non the first week i did 500 thousand\\ngold in the spring and diamond in the fall\\nand then a world tour just to top it all off\\nand lets pretend like they call me the greatest\\nsellin out arenas with bigass stages\\nand everybody loved me and no one ever hated\\nlets try to use imagination\\nchorus hayley williams\\ncan we pretend that airplanes\\nin the night sky are like shooting stars\\ni could really use a wish right now\\nwish right now wish right now\\ncan we pretend that airplanes\\nin the night sky are like shooting stars\\ni could really use a wish right now\\nwish right now wish right now\\n\\nverse 2 bob\\nokay lets pretend like this never happened never\\nlike i never had dreams of bein a rapper rapper\\nlike i didnt write raps up in all of my classes classes\\nlike i never used to run away into the blackness yeah\\nnow lets pretend like it was all good good\\nlike i didnt live starin in the notebook notebook\\nlike i did the things that i probably knew i should should\\nbut i aint have neighbors thats why they call it hood hood\\nyeah now lets pretend like i aint got a name no\\nbefore they ever called me bob or aka bobby ray\\nim talkin back before the mixtapes cloud 9\\nbefore the videos and the deals and the fame yeah\\nbefore they ever once compared me to andré three stacks\\nbefore i ever got on myspace yeah\\nbefore they ever noticed my face yeah\\nso lets just pretend and make wishes outta airplanes\\nchorus hayley williams\\ncan we pretend that airplanes\\nin the night sky are like shooting stars\\ni could really use a wish right now\\nwish right now wish right now\\ncan we pretend that airplanes\\nin the night sky are like shooting stars\\ni could really use a wish right now\\nwish right now wish right now\\n\\nbridge bob  eminem\\nand it seems like yesterday it was just a dream\\nbut those days are gone\\ntheyre just memories\\nand it seems like yesterday it was just a dream\\nbut those days are gone\\nall right…\\n\\nverse 3 eminem\\nlets pretend marshall mathers never picked up a pen\\nlets pretend things woulda been no different\\npretend he procrastinated had no motivation\\npretend he just made excuses that were so paper thin\\nthey could blow away with the wind\\nmarshall youre never gonna make it\\nmakes no sense to play the game\\nthere aint no way that youll win\\npretend he just stayed outside all day and played with his friends\\npretend he even had a friend to say was his friend\\nand it wasnt time to move and schools werent changin again\\nhe wasnt socially awkward and just strange as a kid\\nhe had a father and his mother wasnt crazy as shit\\nand he never dreamed he could rip stadiums and just lazy as shit\\nfuck a talent show in the gymnasium bitch\\nyou wont amount to shit—quit daydreamin kid\\nyou need to get your cranium checked\\nyoure thinking like an alien it just aint realistic\\nnow pretend they aint just make him angry with this shit\\nand there was no one he could even aim when hes pissed at\\nand his alarm went off to wake him but he didnt make it\\nto the rap olympics slept through his plane and he missed it\\nhes gon have a hard time explaining to hailie and lainey\\nthese food stamps and this wic shit\\n‘cause he never risked shit he hoped and he wished it\\nbut it didnt fall in his lap so he aint even here he pretends that—\\nchorus hayley williams\\nairplanes in the night sky are like shooting stars\\ni could really use a wish right now\\nwish right now wish right now\\ncan we pretend that airplanes\\nin the night sky are like shooting stars\\ni could really use a wish right now\\nwish right now wish right now')\n",
      "yes\n",
      "<class 'numpy.int64'>\n",
      "('This Plane', 'intro\\nyeah its young khalifa man\\nmr spacely\\neveryone call me man\\ntaylor gang or die\\nand this project is brought to you by\\nchampagne and paper planes too\\nrostrum records in this bitch\\ntaylor gang heavy hustle deal or no deal\\nyeah bitch\\n\\nverse 1\\nim screaming fuck them niggas who hated\\nim money affiliated\\nspeculating me landing\\nmust have got me mistaken with lame niggas\\nknow you gon get high as fuck\\nas long as the planes with you\\nleft that major situation alone\\nand became richer\\npeople talking down\\nbut see me im the same nigga\\nleave your bitch around\\nwe gon drink the champagne with her\\nwe dont touch the ground\\nsee a cloud with my name it\\nonly ez widers please\\nno cigars for me and my gang\\nfool im a legend in these streets\\ncause how i do my thang\\nand dont wear the fitted\\ni got the city on my chain\\noh man still they hate and talk smack\\nknowing if i was gone\\nthered be no throne to throw your rocks at\\ncruise at maximum altitudes\\nim tryna top that\\nso in touch with the real\\nthem suckas tryna stop that\\nbut i live or let die party get high\\nand tell them lames to deplane or let fly\\nhook\\ndont know what they hate for\\nim just gettin my paper\\nwell maybe theyll love me more when im gone\\ni dont wanna leave but i need to its such a shame\\nthey gon miss this plane\\nthey gon miss this plane\\nthey gon miss this plane\\nthey gon miss this plane\\ni try to believe you\\ni dont wanna leave but i need to\\n\\nverse 2\\nstuck alone in this wave race\\nsay im living too fast\\ndont plan on changing my pace\\ngot one foot on the gas\\ntheres never a need for brakes\\nsmoke ez widers with hash\\nfuck bitches from out of state\\nvalet bringing my cars\\na waiter to bring me plates\\nshrimp and filet mignon\\nwe celebrate buying drinks\\nwith a couple of broads\\nmy niggas and who got love for me\\nits lonely at the top\\nim tired of having company\\nuh so while you busy trying to fit in\\nimma stand out\\nand view my life through this lens\\nto see how it pans out\\nsubstitute teacher ass niggas need a handout\\nmiddle finger screaming fuck them niggas who hated\\nim money affiliated\\npop another bottle that chronic smoke integrated\\nspeculating me landing mustve got me mistaken\\nim speaking as the captain of the plane\\nyous a runner on the jet way\\nfool\\nhook\\ndont know what they hate for\\nim just gettin my paper\\nwell maybe theyll love me more when im gone\\ni dont wanna leave but i need to its such a shame\\nthey gon miss this plane\\nthey gon miss this plane\\nthey gon miss this plane\\nthey gon miss this plane\\ni try to believe you\\ni dont wanna leave but i need to')\n",
      "yes\n",
      "<class 'numpy.int64'>\n",
      "('Good Love', 'intro\\nhey im looking for good love yeah\\nmet a lot of women out there on tour\\nran through em all but im just not sure good love said i like that baby\\nyeah we gon fight but i think thats just good love yeah\\nthats the sound right here baby  it feels so good\\nfirst class flights almost home but i just cant keep still\\nlets go\\n\\nverse 1\\nfresh off the plane into the bent\\nnote a little more than what you pay for your rent\\nim tired of the road no shows booked\\nneed something home cooked i like that baby\\nstraight in the door straight to the floor\\nim already high but light up one more\\njust got home im trying to chill but i just cant keep still\\ngotta hit the block get a little gnac\\nfuck with the hood see if niggas is good\\njake is on me asking me why my music all loud\\ni just tell him i like that baby\\nthrow a little dice head crack twice\\nlight something up im starting to feel nice\\nthey loopin around let me go and peel\\ncause i just cant keep still\\nhaha\\nhook\\nhey im looking for good love yeah\\nmet a lot of women out there on tour\\nran through em all but im just not sure good love said i like that baby\\nyeah we gon fight but i think thats just good love yeah\\nfirst class flights almost home but i just cant keep still\\nlets go\\n\\nverse 2\\nhat low enough short sleeves no cuff\\naston martin sitting outside tough\\nshorty shotgun black hillary duff\\nsheek do it big like i was down with puff\\nnow im in the club no vip\\nim down low where every last hoodlum be\\ni feel baby boy tryna ice grill me\\nbut i just cant keep still\\nwalk up to him you know nice and polite\\nlet him now its real lift the shirt up light\\nima let it off cause i aint trying to fight\\nbut you dead right i like that baby\\nanyway im trying see who else here\\ni see shorty staring at me way over there\\nim sorry baby girl but i gotta disappear\\ncause i just cant keep still\\nhahaha\\nhook\\nhey im looking for good love yeah\\nmet a lot of women out there on tour\\nran through em all but im just not sure good love said i like that baby\\nyeah we gon fight but i think thats just good love yeah\\nfirst class flights almost home but i just cant keep still\\nlets go\\n\\nverse 3\\nbetty wright knockin got em all rockin\\nabout to do the electric slide on the block and\\nyeah this poppin got em going crazy\\nfrom 8 to 80 i like that baby\\nit feels so good you cant sit down\\nyou gotta get up and move your fat ass around\\nyou dont care who watching you keeping it real\\ncause you just cant keep still\\nlets go\\n\\nhook\\nhey im looking for good love yeah\\nmet a lot of women out there on tour\\nran through em all but im just not sure good love said i like that baby\\nyeah we gon fight but i think thats just good love yeah\\nfirst class flights almost home but i just cant keep still\\noutro\\ngood love yeah\\ngood love said i like that baby\\ngood love yeah\\njust cant keep still')\n",
      "yes\n",
      "<class 'numpy.int64'>\n",
      "('We Fly High', 'intro sample  jim jones\\ni wear a mean dark pair of shades\\nand you cant see my eyes\\nunless my head is bent you dig uhhuh\\n\\nchorus jim jones   cam’ron\\nwe fly high no lie you hear that you know this let’s ride ballin\\nforeign rides outside yessir its like showbiz we in the building\\nwe stay fly ballin’ no lie and you know this ballin\\nhips and thighs oh my stay focused\\n\\nverse 1 jim jones\\nya boy gettin paper money i buy big cars foreign\\neight fly rides just to drive in my garage choose one\\nstay sky high twisted fly with the stars twinkle twinkle\\ng4 flights 80 grand large ballin\\nso we lean with it pop with it bankhead\\nvertible jones mean with the top missin flossin\\nim sittin clean with the bottom kitted do it\\ni hopped out saggy jeans and my rock glistened ballin\\nbut i spent about 8 grand\\nmami on stage doin the rain dance i think she like me\\nshe let it hit the floor made it pop what else\\ngot my pedal to the floor screamin fuck the cops do it\\nchorus jim jones  2064217\\nwe fly high no lie you know this ballin\\nforeign rides outside its like showbiz\\nwe stay fly no lie and you know this ballin\\nhips and thighs oh my stay focused\\n\\nverse 2\\nslow down here tonight could be gone tomorrow one chance\\nso i speed through life like theres no tomorrow speedin\\nhundred gs worth of ice on the audemars flossy\\nand we in the street life til they call the law ballin\\ni made the whip get naked what happened\\nwhile i switch gears bitch lookin at the bracelet got ‘em\\nstep out show me what you all about\\nflashbacks to last night of me ballin out harlem\\n1 am we was at the club what happened\\n2 am ten bottles of bub money aint a thing\\nand by 3somethin i was thinkin bout grub\\nso i stumbled to the car due to drinks and the drugs twisted\\n\\nchorus jim jones  \\nwe fly high no lie you know this ballin\\nforeign rides outside its like showbiz\\nwe stay fly no lie and you know this ballin\\nhips and thighs oh my stay focused\\nverse 3\\nnigga could you buy that i keep 20 in the pocket light change\\nyou talkin’ buck 80 if the bentley is the topic that grey poupon\\nbut of course gotta fly the spur \\nto the hood and roll dice on side the curb i got bank\\nbut i know a g a bet may sound absurd get your money up\\ndrive 80 up lenox cause i got a urge speedin speedin’\\nthe rap game like the crack game\\nlifestyle rich famous livin in the fast lane ballin ballin’\\nso when i bleep shorty bleep back\\nlou vuitton belt where im keepin’ all the heat strapped loaded\\ni beat the trial over rucker lets do it\\nall guns loaded and im back motherfucker dipset\\n\\nchorus jim jones  \\nwe fly high no lie you know this ballin\\nforeign rides outside its like showbiz\\nwe fly high no lie you know this ballin\\nforeign rides outside its like showbiz ballin’\\nwe stay fly stay fly no lie no lie and you know this ballin\\nhips and thighs eh oh my oh my stay focused\\n\\noutro\\nchea you niggas need to stay focused when you dealin with a motherfuckin g\\nyou know my name jones one eye capo status all the above motherfucka\\nthis dipset byrdgang we born to fly yall know the rules fall back or fall back\\nsomeone tell my bitch summer im lookin for her ya dig another day another dollar fast life fucka\\ndipset\\nchorus \\nwe stay fly no lie and you know this\\nhips and thighs oh my stay focused')\n",
      "yes\n",
      "Most similar song:\n",
      "Title: Airplanes\n",
      "Lyrics: intro hayley williams\n",
      "can we pretend that airplanes\n",
      "in the night sky are like shooting stars\n",
      "i could really use a wish right now\n",
      "wish right now wish right now\n",
      "can we pretend that airplanes\n",
      "in the nigh...\n",
      "Similarity Score: 1.2212\n",
      "\n"
     ]
    }
   ],
   "source": [
    "tag = \"airplane\"\n",
    "results = search_songs(tag)\n",
    "if results:\n",
    "    print(\"Most similar song:\")\n",
    "    title, lyrics, similarity = results[0]\n",
    "    print(f\"Title: {title}\\nLyrics: {lyrics[:200]}...\\nSimilarity Score: {similarity:.4f}\\n\")\n",
    "else:\n",
    "    print(\"No matching songs found.\")"
   ]
  }
 ],
 "metadata": {
  "kernelspec": {
   "display_name": ".venv",
   "language": "python",
   "name": "python3"
  },
  "language_info": {
   "codemirror_mode": {
    "name": "ipython",
    "version": 3
   },
   "file_extension": ".py",
   "mimetype": "text/x-python",
   "name": "python",
   "nbconvert_exporter": "python",
   "pygments_lexer": "ipython3",
   "version": "3.13.2"
  }
 },
 "nbformat": 4,
 "nbformat_minor": 2
}
