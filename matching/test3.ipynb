{
 "cells": [
  {
   "cell_type": "markdown",
   "metadata": {},
   "source": [
    "# Fast Song Matcher Using Pre-processed Embeddings\n",
    "\n",
    "This notebook provides a system that matches song lyrics to simple text tags (like \"beach\", \"happy\", \"sad\", etc.) by:\n",
    "1. Pre-processing all song data and creating embeddings once\n",
    "2. Saving processed data to disk for quick lookup\n",
    "3. Using a hybrid semantic and keyword-based approach for better matching"
   ]
  },
  {
   "cell_type": "markdown",
   "metadata": {},
   "source": [
    "## Setup\n",
    "First, let's install the required packages if they're not already installed."
   ]
  },
  {
   "cell_type": "code",
   "execution_count": 1,
   "metadata": {},
   "outputs": [
    {
     "name": "stdout",
     "output_type": "stream",
     "text": [
      "Requirement already satisfied: sentence-transformers in ./.venv/lib/python3.11/site-packages (3.4.1)\n",
      "Requirement already satisfied: tqdm in ./.venv/lib/python3.11/site-packages (4.67.1)\n",
      "Requirement already satisfied: transformers<5.0.0,>=4.41.0 in ./.venv/lib/python3.11/site-packages (from sentence-transformers) (4.48.3)\n",
      "Requirement already satisfied: torch>=1.11.0 in ./.venv/lib/python3.11/site-packages (from sentence-transformers) (2.6.0)\n",
      "Requirement already satisfied: scikit-learn in ./.venv/lib/python3.11/site-packages (from sentence-transformers) (1.6.1)\n",
      "Requirement already satisfied: scipy in ./.venv/lib/python3.11/site-packages (from sentence-transformers) (1.13.1)\n",
      "Requirement already satisfied: huggingface-hub>=0.20.0 in ./.venv/lib/python3.11/site-packages (from sentence-transformers) (0.28.1)\n",
      "Requirement already satisfied: Pillow in ./.venv/lib/python3.11/site-packages (from sentence-transformers) (11.1.0)\n",
      "Requirement already satisfied: filelock in ./.venv/lib/python3.11/site-packages (from huggingface-hub>=0.20.0->sentence-transformers) (3.17.0)\n",
      "Requirement already satisfied: fsspec>=2023.5.0 in ./.venv/lib/python3.11/site-packages (from huggingface-hub>=0.20.0->sentence-transformers) (2025.2.0)\n",
      "Requirement already satisfied: packaging>=20.9 in ./.venv/lib/python3.11/site-packages (from huggingface-hub>=0.20.0->sentence-transformers) (24.2)\n",
      "Requirement already satisfied: pyyaml>=5.1 in ./.venv/lib/python3.11/site-packages (from huggingface-hub>=0.20.0->sentence-transformers) (6.0.2)\n",
      "Requirement already satisfied: requests in ./.venv/lib/python3.11/site-packages (from huggingface-hub>=0.20.0->sentence-transformers) (2.32.3)\n",
      "Requirement already satisfied: typing-extensions>=3.7.4.3 in ./.venv/lib/python3.11/site-packages (from huggingface-hub>=0.20.0->sentence-transformers) (4.12.2)\n",
      "Requirement already satisfied: networkx in ./.venv/lib/python3.11/site-packages (from torch>=1.11.0->sentence-transformers) (3.4.2)\n",
      "Requirement already satisfied: jinja2 in ./.venv/lib/python3.11/site-packages (from torch>=1.11.0->sentence-transformers) (3.1.5)\n",
      "Requirement already satisfied: sympy==1.13.1 in ./.venv/lib/python3.11/site-packages (from torch>=1.11.0->sentence-transformers) (1.13.1)\n",
      "Requirement already satisfied: mpmath<1.4,>=1.1.0 in ./.venv/lib/python3.11/site-packages (from sympy==1.13.1->torch>=1.11.0->sentence-transformers) (1.3.0)\n",
      "Requirement already satisfied: numpy>=1.17 in ./.venv/lib/python3.11/site-packages (from transformers<5.0.0,>=4.41.0->sentence-transformers) (1.26.4)\n",
      "Requirement already satisfied: regex!=2019.12.17 in ./.venv/lib/python3.11/site-packages (from transformers<5.0.0,>=4.41.0->sentence-transformers) (2024.11.6)\n",
      "Requirement already satisfied: tokenizers<0.22,>=0.21 in ./.venv/lib/python3.11/site-packages (from transformers<5.0.0,>=4.41.0->sentence-transformers) (0.21.0)\n",
      "Requirement already satisfied: safetensors>=0.4.1 in ./.venv/lib/python3.11/site-packages (from transformers<5.0.0,>=4.41.0->sentence-transformers) (0.5.2)\n",
      "Requirement already satisfied: joblib>=1.2.0 in ./.venv/lib/python3.11/site-packages (from scikit-learn->sentence-transformers) (1.4.2)\n",
      "Requirement already satisfied: threadpoolctl>=3.1.0 in ./.venv/lib/python3.11/site-packages (from scikit-learn->sentence-transformers) (3.5.0)\n",
      "Requirement already satisfied: MarkupSafe>=2.0 in ./.venv/lib/python3.11/site-packages (from jinja2->torch>=1.11.0->sentence-transformers) (3.0.2)\n",
      "Requirement already satisfied: charset-normalizer<4,>=2 in ./.venv/lib/python3.11/site-packages (from requests->huggingface-hub>=0.20.0->sentence-transformers) (3.4.1)\n",
      "Requirement already satisfied: idna<4,>=2.5 in ./.venv/lib/python3.11/site-packages (from requests->huggingface-hub>=0.20.0->sentence-transformers) (3.10)\n",
      "Requirement already satisfied: urllib3<3,>=1.21.1 in ./.venv/lib/python3.11/site-packages (from requests->huggingface-hub>=0.20.0->sentence-transformers) (2.3.0)\n",
      "Requirement already satisfied: certifi>=2017.4.17 in ./.venv/lib/python3.11/site-packages (from requests->huggingface-hub>=0.20.0->sentence-transformers) (2025.1.31)\n"
     ]
    }
   ],
   "source": [
    "# Install required packages\n",
    "!pip install sentence-transformers tqdm"
   ]
  },
  {
   "cell_type": "code",
   "execution_count": 5,
   "metadata": {},
   "outputs": [
    {
     "name": "stdout",
     "output_type": "stream",
     "text": [
      "Using device: mps\n"
     ]
    }
   ],
   "source": [
    "# Import libraries\n",
    "from sentence_transformers import SentenceTransformer, util\n",
    "import pandas as pd\n",
    "import torch\n",
    "import numpy as np\n",
    "from sklearn.feature_extraction.text import TfidfVectorizer\n",
    "import re\n",
    "import os\n",
    "import pickle\n",
    "from tqdm.notebook import tqdm\n",
    "from ipywidgets import IntProgress as IProgress\n",
    "\n",
    "# Set device to MPS if available, otherwise use CPU\n",
    "device = torch.device(\"mps\" if torch.backends.mps.is_available() else \n",
    "                     (\"cuda\" if torch.cuda.is_available() else \"cpu\"))\n",
    "print(f\"Using device: {device}\")"
   ]
  },
  {
   "cell_type": "markdown",
   "metadata": {},
   "source": [
    "## SongMatcher Class\n",
    "This class handles data processing, embeddings creation, and lookup functionality."
   ]
  },
  {
   "cell_type": "code",
   "execution_count": 3,
   "metadata": {},
   "outputs": [],
   "source": [
    "class SongMatcher:\n",
    "    def __init__(self, csv_path='songs_lyrics_adjusted.csv', model_name=\"all-mpnet-base-v2\"):\n",
    "        self.model_name = model_name\n",
    "        self.csv_path = csv_path\n",
    "        self.embeddings_path = f\"song_embeddings_{os.path.basename(model_name)}.pkl\"\n",
    "        self.tfidf_path = \"song_tfidf_model.pkl\"\n",
    "        self.tfidf_matrix_path = \"song_tfidf_matrix.npz\"\n",
    "        self.processed_df_path = \"processed_songs_df.pkl\"\n",
    "        \n",
    "        # Tag expansion dictionary\n",
    "        self.tag_expansions = {\n",
    "            \"beach\": \"beach ocean sea sand waves summer coastal shore surf sunshine relax vacation tropical\",\n",
    "            \"sad\": \"sad crying tears sorrow depression melancholy heartbreak grief lonely somber dark emotional pain\",\n",
    "            \"happy\": \"happy joy smile laugh excitement celebration upbeat cheerful euphoria positivity bright\",\n",
    "            \"love\": \"love romance relationship heart passion affection emotion together forever commitment intimacy\",\n",
    "            \"party\": \"party celebration dance club night drinks social friends fun excitement energy\",\n",
    "            \"angry\": \"angry rage fury mad furious hate vengeful aggressive irritated bitter anger upset\",\n",
    "            \"chill\": \"chill relax calm peaceful mellow smooth cool laid-back easy tranquil ambient soothing\",\n",
    "            \"workout\": \"workout exercise fitness gym training cardio running pump motivation strength energy\",\n",
    "            \"sleep\": \"sleep night dream rest peaceful calm quiet lullaby meditation gentle soft soothing\",\n",
    "            \"driving\": \"driving road car journey travel highway cruise ride drive trip adventure moving\"\n",
    "            # Add more as needed\n",
    "        }\n",
    "        \n",
    "        # Load or process data\n",
    "        self.load_or_process_data()\n",
    "    \n",
    "    def preprocess_text(self, text):\n",
    "        \"\"\"Clean text by removing special chars and normalizing\"\"\"\n",
    "        if not isinstance(text, str):\n",
    "            return \"\"\n",
    "        # Convert to lowercase\n",
    "        text = text.lower()\n",
    "        # Remove special characters and extra whitespace\n",
    "        text = re.sub(r'[^\\w\\s]', ' ', text)\n",
    "        text = re.sub(r'\\s+', ' ', text).strip()\n",
    "        return text\n",
    "    \n",
    "    def expand_tag(self, tag):\n",
    "        \"\"\"Expand tag with related concepts if available\"\"\"\n",
    "        if tag.lower() in self.tag_expansions:\n",
    "            return self.tag_expansions[tag.lower()]\n",
    "        return tag\n",
    "    \n",
    "    def load_or_process_data(self):\n",
    "        \"\"\"Load pre-processed data or create if doesn't exist\"\"\"\n",
    "        # Check if processed data exists\n",
    "        if (os.path.exists(self.processed_df_path) and \n",
    "            os.path.exists(self.embeddings_path) and \n",
    "            os.path.exists(self.tfidf_path) and\n",
    "            os.path.exists(self.tfidf_matrix_path)):\n",
    "            \n",
    "            print(\"Loading pre-processed data...\")\n",
    "            self.df = pd.read_pickle(self.processed_df_path)\n",
    "            with open(self.embeddings_path, 'rb') as f:\n",
    "                self.embeddings = pickle.load(f)\n",
    "            with open(self.tfidf_path, 'rb') as f:\n",
    "                self.tfidf_vectorizer = pickle.load(f)\n",
    "            self.tfidf_matrix = np.load(self.tfidf_matrix_path, allow_pickle=True)['matrix']\n",
    "            \n",
    "            # Load model for new tag encoding\n",
    "            print(\"Loading model for query encoding...\")\n",
    "            self.model = SentenceTransformer(self.model_name)\n",
    "            self.model = self.model.to(device)\n",
    "            \n",
    "            print(f\"Data loaded successfully: {len(self.df)} songs\")\n",
    "        else:\n",
    "            print(\"Pre-processed data not found. Processing data...\")\n",
    "            self.process_data()\n",
    "    \n",
    "    def process_data(self):\n",
    "        \"\"\"Process data from scratch and save results\"\"\"\n",
    "        # Load and preprocess the dataset\n",
    "        print(\"Loading dataset...\")\n",
    "        self.df = pd.read_csv(self.csv_path)\n",
    "        self.df[\"lyrics\"] = self.df[\"lyrics\"].fillna(\"\")\n",
    "        \n",
    "        # Preprocess text\n",
    "        print(\"Preprocessing text...\")\n",
    "        self.df[\"processed_lyrics\"] = self.df[\"lyrics\"].apply(self.preprocess_text)\n",
    "        self.df[\"processed_title\"] = self.df[\"title\"].apply(self.preprocess_text)\n",
    "        \n",
    "        # Create combined field for embedding\n",
    "        self.df[\"title_lyrics\"] = self.df[\"processed_title\"] + \" \" + self.df[\"processed_lyrics\"]\n",
    "        \n",
    "        # Create TF-IDF vectorizer for keyword matching\n",
    "        print(\"Building TF-IDF model...\")\n",
    "        self.tfidf_vectorizer = TfidfVectorizer(max_features=5000, stop_words='english')\n",
    "        self.tfidf_matrix = self.tfidf_vectorizer.fit_transform(self.df[\"processed_lyrics\"])\n",
    "        \n",
    "        # Load the sentence transformer model\n",
    "        print(f\"Loading {self.model_name} model...\")\n",
    "        self.model = SentenceTransformer(self.model_name)\n",
    "        self.model = self.model.to(device)\n",
    "        \n",
    "        # Generate embeddings for all songs\n",
    "        print(\"Generating embeddings for all songs (this may take a while)...\")\n",
    "        self.embeddings = {}\n",
    "        \n",
    "        # Store title and lyrics embeddings separately\n",
    "        for idx, row in tqdm(self.df.iterrows(), total=len(self.df)):\n",
    "            # Embed title (move to CPU for storage)\n",
    "            title_emb = self.model.encode(\n",
    "                row[\"processed_title\"],\n",
    "                convert_to_tensor=True\n",
    "            ).cpu().numpy()\n",
    "            \n",
    "            # Embed lyrics (limit length for efficiency)\n",
    "            lyrics = row[\"processed_lyrics\"][:512] if len(row[\"processed_lyrics\"]) > 0 else \"empty\"\n",
    "            lyrics_emb = self.model.encode(\n",
    "                lyrics,\n",
    "                convert_to_tensor=True\n",
    "            ).cpu().numpy()\n",
    "            \n",
    "            self.embeddings[idx] = {\n",
    "                \"title_embedding\": title_emb,\n",
    "                \"lyrics_embedding\": lyrics_emb\n",
    "            }\n",
    "        \n",
    "        # Save processed data\n",
    "        print(\"Saving processed data...\")\n",
    "        self.df.to_pickle(self.processed_df_path)\n",
    "        with open(self.embeddings_path, 'wb') as f:\n",
    "            pickle.dump(self.embeddings, f)\n",
    "        with open(self.tfidf_path, 'wb') as f:\n",
    "            pickle.dump(self.tfidf_vectorizer, f)\n",
    "        np.savez_compressed(self.tfidf_matrix_path, matrix=self.tfidf_matrix)\n",
    "        \n",
    "        print(\"Data processing complete!\")\n",
    "    \n",
    "    def find_matching_songs(self, tag, num_results=5, title_weight=0.3, semantic_weight=0.7, keyword_weight=0.3):\n",
    "        \"\"\"Quickly find songs matching a tag using pre-computed embeddings\"\"\"\n",
    "        expanded_tag = self.expand_tag(tag)\n",
    "        print(f\"Finding songs matching tag: '{tag}'\")\n",
    "        if tag != expanded_tag:\n",
    "            print(f\"Expanded to: '{expanded_tag}'\")\n",
    "        \n",
    "        # Encode the tag\n",
    "        tag_embedding = self.model.encode(expanded_tag, convert_to_tensor=True).to(device)\n",
    "        \n",
    "        # Calculate TF-IDF for tag\n",
    "        tag_tfidf = self.tfidf_vectorizer.transform([expanded_tag])\n",
    "        \n",
    "        # Get similarity scores for all songs\n",
    "        results = []\n",
    "        \n",
    "        for idx in range(len(self.df)):\n",
    "            # Get pre-computed embeddings\n",
    "            title_emb = torch.tensor(self.embeddings[idx][\"title_embedding\"]).to(device)\n",
    "            lyrics_emb = torch.tensor(self.embeddings[idx][\"lyrics_embedding\"]).to(device)\n",
    "            \n",
    "            # Calculate similarities\n",
    "            title_sim = util.pytorch_cos_sim(tag_embedding, title_emb).item()\n",
    "            lyrics_sim = util.pytorch_cos_sim(tag_embedding, lyrics_emb).item()\n",
    "            \n",
    "            # Calculate keyword matching score\n",
    "            keyword_sim = (tag_tfidf @ self.tfidf_matrix[idx].T).toarray()[0][0] if self.tfidf_matrix[idx].nnz > 0 else 0\n",
    "            \n",
    "            # Combine scores\n",
    "            semantic_sim = (title_weight * title_sim + (1-title_weight) * lyrics_sim)\n",
    "            combined_score = semantic_weight * semantic_sim + keyword_weight * keyword_sim\n",
    "            \n",
    "            results.append({\n",
    "                \"index\": idx,\n",
    "                \"title\": self.df.iloc[idx][\"title\"],\n",
    "                \"artist\": self.df.iloc[idx][\"artist\"],\n",
    "                \"combined_score\": combined_score,\n",
    "                \"title_sim\": title_sim,\n",
    "                \"lyrics_sim\": lyrics_sim,\n",
    "                \"keyword_sim\": keyword_sim\n",
    "            })\n",
    "        \n",
    "        # Convert to DataFrame and sort\n",
    "        results_df = pd.DataFrame(results)\n",
    "        results_df = results_df.sort_values(\"combined_score\", ascending=False)\n",
    "        \n",
    "        return results_df.head(num_results)"
   ]
  },
  {
   "cell_type": "markdown",
   "metadata": {},
   "source": [
    "## Initialize the Matcher\n",
    "The first run will pre-process all data (takes a few minutes). Subsequent runs will load from disk (takes seconds)."
   ]
  },
  {
   "cell_type": "code",
   "execution_count": null,
   "metadata": {},
   "outputs": [
    {
     "name": "stdout",
     "output_type": "stream",
     "text": [
      "Pre-processed data not found. Processing data...\n",
      "Loading dataset...\n"
     ]
    }
   ],
   "source": [
    "# Initialize the matcher - first run will process data, subsequent runs will load from cached files\n",
    "matcher = SongMatcher('songs_lyrics_adjusted.csv')"
   ]
  },
  {
   "cell_type": "markdown",
   "metadata": {},
   "source": [
    "## Find Matching Songs\n",
    "Now we can quickly find songs matching any tag!"
   ]
  },
  {
   "cell_type": "code",
   "execution_count": null,
   "metadata": {},
   "outputs": [],
   "source": [
    "# Example: Find songs related to \"beach\"\n",
    "tag = \"beach\"\n",
    "results = matcher.find_matching_songs(tag, num_results=5)\n",
    "\n",
    "# Display results\n",
    "print(f\"\\nTop 5 songs matching '{tag}':\")\n",
    "for _, row in results.iterrows():\n",
    "    print(f\"{row['title']} by {row['artist']} (Score: {row['combined_score']:.4f})\")\n",
    "    print(f\"  Title sim: {row['title_sim']:.3f}, Lyrics sim: {row['lyrics_sim']:.3f}, Keyword: {row['keyword_sim']:.3f}\")"
   ]
  },
  {
   "cell_type": "markdown",
   "metadata": {},
   "source": [
    "## Try Another Tag"
   ]
  },
  {
   "cell_type": "code",
   "execution_count": null,
   "metadata": {},
   "outputs": [],
   "source": [
    "# Example: Find songs related to \"sad\"\n",
    "tag = \"sad\"\n",
    "results = matcher.find_matching_songs(tag, num_results=5)\n",
    "\n",
    "# Display results\n",
    "print(f\"\\nTop 5 songs matching '{tag}':\")\n",
    "for _, row in results.iterrows():\n",
    "    print(f\"{row['title']} by {row['artist']} (Score: {row['combined_score']:.4f})\")\n",
    "    print(f\"  Title sim: {row['title_sim']:.3f}, Lyrics sim: {row['lyrics_sim']:.3f}, Keyword: {row['keyword_sim']:.3f}\")"
   ]
  },
  {
   "cell_type": "markdown",
   "metadata": {},
   "source": [
    "## Interactive Search Function\n",
    "Run this cell to interactively search for songs matching different tags."
   ]
  },
  {
   "cell_type": "code",
   "execution_count": null,
   "metadata": {},
   "outputs": [],
   "source": [
    "from IPython.display import display, clear_output\n",
    "\n",
    "def interactive_search():\n",
    "    while True:\n",
    "        # Get user input\n",
    "        tag = input(\"Enter a tag to find matching songs (or 'quit' to exit): \")\n",
    "        \n",
    "        if tag.lower() == 'quit':\n",
    "            break\n",
    "            \n",
    "        # Find matches\n",
    "        results = matcher.find_matching_songs(tag, num_results=5)\n",
    "        \n",
    "        # Display results\n",
    "        clear_output(wait=True)\n",
    "        print(f\"\\nTop 5 songs matching '{tag}':\")\n",
    "        for _, row in results.iterrows():\n",
    "            print(f\"{row['title']} by {row['artist']} (Score: {row['combined_score']:.4f})\")\n",
    "            print(f\"  Title sim: {row['title_sim']:.3f}, Lyrics sim: {row['lyrics_sim']:.3f}, Keyword: {row['keyword_sim']:.3f}\")\n",
    "        print(\"\\n\")\n",
    "\n",
    "# Run the interactive search\n",
    "interactive_search()"
   ]
  },
  {
   "cell_type": "markdown",
   "metadata": {},
   "source": [
    "## Add New Tag Expansions\n",
    "You can add your own tag expansions to improve matching for specific moods or themes."
   ]
  },
  {
   "cell_type": "code",
   "execution_count": null,
   "metadata": {},
   "outputs": [],
   "source": [
    "# Add a new tag expansion\n",
    "matcher.tag_expansions[\"nostalgic\"] = \"nostalgic memory remember past childhood reminisce throwback history memories old days youth\"\n",
    "\n",
    "# Test the new tag\n",
    "results = matcher.find_matching_songs(\"nostalgic\", num_results=5)\n",
    "\n",
    "# Display results\n",
    "print(f\"\\nTop 5 songs matching 'nostalgic':\")\n",
    "for _, row in results.iterrows():\n",
    "    print(f\"{row['title']} by {row['artist']} (Score: {row['combined_score']:.4f})\")"
   ]
  },
  {
   "cell_type": "markdown",
   "metadata": {},
   "source": [
    "## Adjust Matching Parameters\n",
    "You can tune the weights to prioritize title matches, lyrics matches, or keyword matches."
   ]
  },
  {
   "cell_type": "code",
   "execution_count": null,
   "metadata": {},
   "outputs": [],
   "source": [
    "# Adjust parameters to prioritize keyword matches more\n",
    "tag = \"beach\"\n",
    "results = matcher.find_matching_songs(\n",
    "    tag,\n",
    "    num_results=5,\n",
    "    title_weight=0.2,      # Lower weight for title matching\n",
    "    semantic_weight=0.5,   # Lower weight for semantic matching\n",
    "    keyword_weight=0.5     # Higher weight for keyword matching\n",
    ")\n",
    "\n",
    "# Display results\n",
    "print(f\"\\nTop 5 songs matching '{tag}' (prioritizing keyword matches):\")\n",
    "for _, row in results.iterrows():\n",
    "    print(f\"{row['title']} by {row['artist']} (Score: {row['combined_score']:.4f})\")\n",
    "    print(f\"  Title sim: {row['title_sim']:.3f}, Lyrics sim: {row['lyrics_sim']:.3f}, Keyword: {row['keyword_sim']:.3f}\")"
   ]
  }
 ],
 "metadata": {
  "kernelspec": {
   "display_name": ".venv",
   "language": "python",
   "name": "python3"
  },
  "language_info": {
   "codemirror_mode": {
    "name": "ipython",
    "version": 3
   },
   "file_extension": ".py",
   "mimetype": "text/x-python",
   "name": "python",
   "nbconvert_exporter": "python",
   "pygments_lexer": "ipython3",
   "version": "3.11.9"
  }
 },
 "nbformat": 4,
 "nbformat_minor": 4
}
